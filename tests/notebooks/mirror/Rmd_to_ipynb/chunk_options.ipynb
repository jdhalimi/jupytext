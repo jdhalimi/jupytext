{
 "cells": [
  {
   "cell_type": "raw",
   "metadata": {},
   "source": [
    "---\n",
    "title: \"Test chunk options in Rmd/Jupyter conversion\"\n",
    "author: \"Marc Wouts\"\n",
    "date: \"June 16, 2018\"\n",
    "---"
   ]
  },
  {
   "cell_type": "code",
   "execution_count": null,
   "metadata": {
    "hide_output": true,
    "name": "knitr_setup"
   },
   "outputs": [],
   "source": [
    "%%R\n",
    "knitr::opts_chunk$set(echo = FALSE, fig.width = 10, fig.height = 5)"
   ]
  },
  {
   "cell_type": "markdown",
   "metadata": {
    "noskipline": true
   },
   "source": []
  },
  {
   "cell_type": "code",
   "execution_count": null,
   "metadata": {
    "hide_input": false
   },
   "outputs": [],
   "source": [
    "import pandas as pd\n",
    "x = pd.Series({'A':1, 'B':3, 'C':2})"
   ]
  },
  {
   "cell_type": "code",
   "execution_count": null,
   "metadata": {
    "fig.height": 5,
    "fig.width": 8,
    "hide_input": true,
    "name": "bar_plot",
    "noskipline": true
   },
   "outputs": [],
   "source": [
    "x.plot(kind='bar', title='Sample plot')"
   ]
  },
  {
   "cell_type": "markdown",
   "metadata": {},
   "source": []
  }
 ],
 "metadata": {
  "language_info": {
   "name": "python"
  }
 },
 "nbformat": 4,
 "nbformat_minor": 2
}
